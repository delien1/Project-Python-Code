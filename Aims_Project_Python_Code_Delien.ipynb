{
 "cells": [
  {
   "cell_type": "markdown",
   "id": "53754546",
   "metadata": {},
   "source": [
    "## Kruskal's Algorithm"
   ]
  },
  {
   "cell_type": "code",
   "execution_count": 1,
   "id": "16ceb544",
   "metadata": {},
   "outputs": [
    {
     "name": "stdout",
     "output_type": "stream",
     "text": [
      "Minimum Spanning Tree Edges: [('G', 'A', {'weight': 4}), ('B', 'A', {'weight': 1}), ('B', 'E', {'weight': 2}), ('B', 'D', {'weight': 2}), ('E', 'F', {'weight': 1}), ('F', 'C', {'weight': 3})]\n"
     ]
    }
   ],
   "source": [
    "import networkx as nx\n",
    "from math import inf\n",
    "\n",
    "def kruskal(G, w):\n",
    "    edges = [(u, v, w[u][v]) for u in G for v in G[u] if u < v and w[u][v] != float(inf)]\n",
    "    edges.sort(key=lambda x: x[2])\n",
    "    mst = nx.Graph()\n",
    "    mst.add_nodes_from(G)\n",
    "    for u, v, weight in edges:\n",
    "        if not nx.has_path(mst, u, v):\n",
    "            mst.add_edge(u, v, weight=weight)\n",
    "    return mst\n",
    "G = {\n",
    "    \"G\": {\"B\": 5, \"A\": 4},\n",
    "    \"B\": {\"G\": 5, \"A\": 1, \"E\": 2, \"D\": 2},\n",
    "    \"A\": {\"G\": 4, \"B\": 1, \"D\": 4},\n",
    "    \"D\": {\"A\": 4, \"B\": 2, \"E\": 3, \"F\": 5},\n",
    "    \"E\": {\"B\": 2, \"D\": 3, \"F\": 1, \"C\": 4},\n",
    "    \"F\": {\"D\": 5, \"E\": 1, \"C\": 3},\n",
    "    \"C\": {\"E\": 4, \"F\": 3}\n",
    "}\n",
    "w = G \n",
    "MST = kruskal(G, w)\n",
    "print(\"Minimum Spanning Tree Edges:\", MST.edges(data=True))"
   ]
  },
  {
   "cell_type": "markdown",
   "id": "d90c41b4",
   "metadata": {},
   "source": [
    "## Kruskal's Algorithm validation with another graph"
   ]
  },
  {
   "cell_type": "code",
   "execution_count": 2,
   "id": "ca84c993",
   "metadata": {},
   "outputs": [
    {
     "name": "stdout",
     "output_type": "stream",
     "text": [
      "Minimum Spanning Tree Edges: [('A', 'B', {'weight': 2}), ('A', 'C', {'weight': 3}), ('A', 'D', {'weight': 3}), ('D', 'F', {'weight': 5}), ('C', 'E', {'weight': 1}), ('F', 'G', {'weight': 9})]\n"
     ]
    }
   ],
   "source": [
    "import networkx as nx\n",
    "from math import inf\n",
    "\n",
    "def kruskal(G, w):\n",
    "    edges = [(u, v, w[u][v]) for u in G for v in G[u] if u < v and w[u][v] != float(inf)]\n",
    "    edges.sort(key=lambda x: x[2])\n",
    "    mst = nx.Graph()\n",
    "    mst.add_nodes_from(G)\n",
    "    for u, v, weight in edges:\n",
    "        if not nx.has_path(mst, u, v):\n",
    "            mst.add_edge(u, v, weight=weight)\n",
    "    return mst\n",
    "G = {\n",
    "    \"A\": {\"B\": 2, \"C\": 3, \"D\": 3},\n",
    "    \"B\": {\"A\": 2, \"C\": 4, \"E\": 3},\n",
    "    \"D\": {\"A\": 3, \"C\": 5, \"F\": 5},\n",
    "    \"C\": {\"A\": 3, \"B\": 4, \"D\": 5, \"E\": 1, \"F\": 6},\n",
    "    \"E\": {\"B\": 3, \"C\": 1, \"F\": 8},\n",
    "    \"F\": {\"C\": 6, \"D\": 7, \"E\": 8, \"G\": 9},\n",
    "    \"G\": {\"F\": 9}\n",
    "    }\n",
    "w = G \n",
    "MST = kruskal(G, w)\n",
    "print(\"Minimum Spanning Tree Edges:\", MST.edges(data=True))"
   ]
  },
  {
   "cell_type": "code",
   "execution_count": null,
   "id": "f64728e8",
   "metadata": {},
   "outputs": [],
   "source": []
  },
  {
   "cell_type": "code",
   "execution_count": null,
   "id": "5e44f078",
   "metadata": {},
   "outputs": [],
   "source": []
  },
  {
   "cell_type": "code",
   "execution_count": null,
   "id": "c9665be7",
   "metadata": {},
   "outputs": [],
   "source": []
  },
  {
   "cell_type": "markdown",
   "id": "92e6ccfe",
   "metadata": {},
   "source": [
    "## Prim's Algorithm"
   ]
  },
  {
   "cell_type": "code",
   "execution_count": 3,
   "id": "7bbecbc3",
   "metadata": {
    "scrolled": true
   },
   "outputs": [
    {
     "name": "stdout",
     "output_type": "stream",
     "text": [
      "[('A', 'B', 2), ('A', 'C', 3), ('C', 'E', 1), ('A', 'D', 3), ('D', 'F', 5), ('F', 'G', 9)]\n"
     ]
    }
   ],
   "source": [
    "from heapq import heappop, heappush,heapify\n",
    "def prim(graph):\n",
    "    mst = []\n",
    "    visited = set()\n",
    "    start_node = next(iter(graph))\n",
    "    visited.add(start_node)\n",
    "    queue = [(weight, start_node, v) for v, weight in graph[start_node].items()]\n",
    "    heapify(queue)\n",
    "    while queue:\n",
    "        weight, u, v = heappop(queue)\n",
    "        if v not in visited:\n",
    "            visited.add(v)\n",
    "            mst.append((u, v, weight))\n",
    "            for w, weight in graph[v].items():\n",
    "                if w not in visited:\n",
    "                    heappush(queue, (weight, v, w))\n",
    "    return mst\n",
    "# Test the Prim’s algorithm\n",
    "graph = {\n",
    "    \"A\": {\"B\": 2, \"C\": 3, \"D\": 3},\n",
    "    \"B\": {\"A\": 2, \"C\": 4, \"E\": 3},\n",
    "    \"D\": {\"A\": 3, \"C\": 5, \"F\": 5},\n",
    "    \"C\": {\"A\": 3, \"B\": 4, \"D\": 5, \"E\": 1, \"F\": 6},\n",
    "    \"E\": {\"B\": 3, \"C\": 1, \"F\": 8},\n",
    "    \"F\": {\"C\": 6, \"D\": 7, \"E\": 8, \"G\": 9},\n",
    "    \"G\": {\"F\": 9}\n",
    "    }\n",
    "print(prim(graph))"
   ]
  },
  {
   "cell_type": "markdown",
   "id": "a44689f9",
   "metadata": {},
   "source": [
    "## Prim's Algorithm validation with another graph"
   ]
  },
  {
   "cell_type": "code",
   "execution_count": 51,
   "id": "1bf3ab60",
   "metadata": {},
   "outputs": [
    {
     "name": "stdout",
     "output_type": "stream",
     "text": [
      "[('G', 'A', 4), ('A', 'B', 1), ('B', 'D', 2), ('B', 'E', 2), ('E', 'F', 1), ('F', 'C', 3)]\n"
     ]
    }
   ],
   "source": [
    "from heapq import heappop, heappush,heapify\n",
    "def prim(graph):\n",
    "    mst = []\n",
    "    visited = set()\n",
    "    start_node = next(iter(graph))\n",
    "    visited.add(start_node)\n",
    "    queue = [(weight, start_node, v) for v, weight in graph[start_node].items()]\n",
    "    heapify(queue)\n",
    "    while queue:\n",
    "        weight, u, v = heappop(queue)\n",
    "        if v not in visited:\n",
    "            visited.add(v)\n",
    "            mst.append((u, v, weight))\n",
    "            for w, weight in graph[v].items():\n",
    "                if w not in visited:\n",
    "                    heappush(queue, (weight, v, w))\n",
    "    return mst\n",
    "# Test the Prim’s algorithm\n",
    "graph = {\n",
    "    \"G\": {\"B\": 5, \"A\": 4},\n",
    "    \"B\": {\"G\": 5, \"A\": 1, \"E\": 2, \"D\": 2},\n",
    "    \"A\": {\"G\": 4, \"B\": 1, \"D\": 4},\n",
    "    \"D\": {\"A\": 4, \"B\": 2, \"E\": 3, \"F\": 5},\n",
    "    \"E\": {\"B\": 2, \"D\": 3, \"F\": 1, \"C\": 4},\n",
    "    \"F\": {\"D\": 5, \"E\": 1, \"C\": 3},\n",
    "    \"C\": {\"E\": 4, \"F\": 3}\n",
    "}\n",
    "print(prim(graph))"
   ]
  },
  {
   "cell_type": "code",
   "execution_count": null,
   "id": "5e84a777",
   "metadata": {},
   "outputs": [],
   "source": []
  },
  {
   "cell_type": "markdown",
   "id": "e774c204",
   "metadata": {},
   "source": [
    "## Dijkstra's Algorithm for undirected graph"
   ]
  },
  {
   "cell_type": "code",
   "execution_count": 7,
   "id": "d49ae58d",
   "metadata": {},
   "outputs": [
    {
     "name": "stdout",
     "output_type": "stream",
     "text": [
      "Shortest Distance: 7\n",
      "Shortest Path: A -> B -> D\n"
     ]
    }
   ],
   "source": [
    "import sys\n",
    "from heapq import heapify, heappush, heappop\n",
    "\n",
    "def Dijkstra(graph, src, dest):\n",
    "    inf = sys.maxsize\n",
    "    d = {node: {'distance': inf, 'pred': []} for node in graph}\n",
    "    d[src]['distance'] = 0\n",
    "    \n",
    "    visited = []\n",
    "    queue = [(0, src)]\n",
    "    heapify(queue)\n",
    "    \n",
    "    while queue:\n",
    "        distance, vertex = heappop(queue)\n",
    "        if vertex not in visited:\n",
    "            visited.append(vertex)\n",
    "            for neighbor in graph[vertex]:\n",
    "                if neighbor not in visited:\n",
    "                    new_distance = d[vertex]['distance'] + graph[vertex][neighbor]\n",
    "                    if new_distance < d[neighbor]['distance']:\n",
    "                        d[neighbor]['distance'] = new_distance\n",
    "                        d[neighbor]['pred'] = d[vertex]['pred'] + [vertex]\n",
    "                        heappush(queue, (d[neighbor]['distance'], neighbor))\n",
    "    \n",
    "    print(\"Shortest Distance: \" + str(d[dest]['distance']))\n",
    "    print(\"Shortest Path: \" + ' -> '.join(d[dest]['pred'] + [dest]))\n",
    "\n",
    "if __name__ == \"__main__\":\n",
    "    graph = {\n",
    "        'A': {'B': 2, 'D': 8},\n",
    "        'B': {'A': 2, 'D': 5, 'E': 6},\n",
    "        'C': {'E': 8, 'F': 3},\n",
    "        'D': {'A': 8, 'B': 5, 'E': 3, 'F': 2},\n",
    "        'E': {'B': 6, 'D': 3, 'C': 8, 'F': 1},\n",
    "        'F': {'D': 2, 'E': 1, 'C': 3}\n",
    "    }\n",
    "\n",
    "    source = 'A'\n",
    "    destination = 'D'\n",
    "    Dijkstra(graph, source, destination)"
   ]
  },
  {
   "cell_type": "markdown",
   "id": "1daaaedd",
   "metadata": {},
   "source": [
    "## Dijkstra's Algorithm for undirected graph validation"
   ]
  },
  {
   "cell_type": "code",
   "execution_count": 61,
   "id": "8739b549",
   "metadata": {},
   "outputs": [
    {
     "name": "stdout",
     "output_type": "stream",
     "text": [
      "Shortest Distance: 11\n",
      "Shortest Path: G -> B -> E -> C\n"
     ]
    }
   ],
   "source": [
    "import sys\n",
    "from heapq import heapify, heappush, heappop\n",
    "\n",
    "def Dijkstra(graph, src, dest):\n",
    "    inf = sys.maxsize\n",
    "    d = {node: {'distance': inf, 'pred': []} for node in graph}\n",
    "    d[src]['distance'] = 0\n",
    "    \n",
    "    visited = []\n",
    "    queue = [(0, src)]\n",
    "    heapify(queue)\n",
    "    \n",
    "    while queue:\n",
    "        distance, vertex = heappop(queue)\n",
    "        if vertex not in visited:\n",
    "            visited.append(vertex)\n",
    "            for neighbor in graph[vertex]:\n",
    "                if neighbor not in visited:\n",
    "                    new_distance = d[vertex]['distance'] + graph[vertex][neighbor]\n",
    "                    if new_distance < d[neighbor]['distance']:\n",
    "                        d[neighbor]['distance'] = new_distance\n",
    "                        d[neighbor]['pred'] = d[vertex]['pred'] + [vertex]\n",
    "                        heappush(queue, (d[neighbor]['distance'], neighbor))\n",
    "    \n",
    "    print(\"Shortest Distance: \" + str(d[dest]['distance']))\n",
    "    print(\"Shortest Path: \" + ' -> '.join(d[dest]['pred'] + [dest]))\n",
    "\n",
    "if __name__ == \"__main__\":\n",
    "    graph = {\n",
    "    \"G\": {\"B\": 5, \"A\": 4},\n",
    "    \"B\": {\"G\": 5, \"A\": 1, \"E\": 2, \"D\": 2},\n",
    "    \"A\": {\"G\": 4, \"B\": 1, \"D\": 4},\n",
    "    \"D\": {\"A\": 4, \"B\": 2, \"E\": 3, \"F\": 5},\n",
    "    \"E\": {\"B\": 2, \"D\": 3, \"F\": 1, \"C\": 4},\n",
    "    \"F\": {\"D\": 5, \"E\": 1, \"C\": 3},\n",
    "    \"C\": {\"E\": 4, \"F\": 3}\n",
    "}\n",
    "\n",
    "    source = 'G'\n",
    "    destination = 'C'\n",
    "    Dijkstra(graph, source, destination)"
   ]
  },
  {
   "cell_type": "code",
   "execution_count": null,
   "id": "483ecb68",
   "metadata": {},
   "outputs": [],
   "source": []
  },
  {
   "cell_type": "markdown",
   "id": "9a562b7d",
   "metadata": {},
   "source": [
    "## Dijkstra Algorithm  with directed graph graph"
   ]
  },
  {
   "cell_type": "code",
   "execution_count": 69,
   "id": "4eb98f55",
   "metadata": {
    "scrolled": true
   },
   "outputs": [
    {
     "name": "stdout",
     "output_type": "stream",
     "text": [
      "Shortest Distance: 7\n",
      "Shortest Path: A -> C -> E\n"
     ]
    }
   ],
   "source": [
    "import sys\n",
    "from heapq import heapify, heappush, heappop\n",
    "\n",
    "def Dijkstra(graph, src, dest):\n",
    "    inf = sys.maxsize\n",
    "    d = {node: {'distance': inf, 'pred': []} for node in graph}\n",
    "    d[src]['distance'] = 0\n",
    "    \n",
    "    visited = []\n",
    "    queue = [(0, src)]\n",
    "    heapify(queue)\n",
    "    \n",
    "    while queue:\n",
    "        distance, vertex = heappop(queue)\n",
    "        if vertex not in visited:\n",
    "            visited.append(vertex)\n",
    "            for neighbor in graph[vertex]:\n",
    "                if neighbor not in visited:\n",
    "                    new_distance = d[vertex]['distance'] + graph[vertex][neighbor]\n",
    "                    if new_distance < d[neighbor]['distance']:\n",
    "                        d[neighbor]['distance'] = new_distance\n",
    "                        d[neighbor]['pred'] = d[vertex]['pred'] + [vertex]\n",
    "                        heappush(queue, (d[neighbor]['distance'], neighbor))\n",
    "    \n",
    "    print(\"Shortest Distance: \" + str(d[dest]['distance']))\n",
    "    print(\"Shortest Path: \" + ' -> '.join(d[dest]['pred'] + [dest]))\n",
    "\n",
    "if __name__ == \"__main__\":\n",
    "    graph = {\n",
    "    \"A\": {\"B\": 10, \"C\": 5},\n",
    "    \"B\": {\"D\": 1},\n",
    "    \"C\": {\"B\": 3, \"E\": 2},\n",
    "    \"D\": {},\n",
    "    \"E\": {\"A\": 2, \"D\": 6}\n",
    "}\n",
    "    source = 'A'\n",
    "    destination = 'E'\n",
    "    Dijkstra(graph, source, destination)"
   ]
  },
  {
   "cell_type": "markdown",
   "id": "b7e96a2e",
   "metadata": {},
   "source": [
    "## Dijkstra Algorithm with directed graph graph validation"
   ]
  },
  {
   "cell_type": "code",
   "execution_count": 74,
   "id": "7d433550",
   "metadata": {},
   "outputs": [
    {
     "name": "stdout",
     "output_type": "stream",
     "text": [
      "Shortest Distance: 13\n",
      "Shortest Path: A -> C -> E -> F\n"
     ]
    }
   ],
   "source": [
    "import sys\n",
    "from heapq import heapify, heappush, heappop\n",
    "\n",
    "def Dijkstra(graph, src, dest):\n",
    "    inf = sys.maxsize\n",
    "    d = {node: {'distance': inf, 'pred': []} for node in graph}\n",
    "    d[src]['distance'] = 0\n",
    "    \n",
    "    visited = []\n",
    "    queue = [(0, src)]\n",
    "    heapify(queue)\n",
    "    \n",
    "    while queue:\n",
    "        distance, vertex = heappop(queue)\n",
    "        if vertex not in visited:\n",
    "            visited.append(vertex)\n",
    "            for neighbor in graph[vertex]:\n",
    "                if neighbor not in visited:\n",
    "                    new_distance = d[vertex]['distance'] + graph[vertex][neighbor]\n",
    "                    if new_distance < d[neighbor]['distance']:\n",
    "                        d[neighbor]['distance'] = new_distance\n",
    "                        d[neighbor]['pred'] = d[vertex]['pred'] + [vertex]\n",
    "                        heappush(queue, (d[neighbor]['distance'], neighbor))\n",
    "    \n",
    "    print(\"Shortest Distance: \" + str(d[dest]['distance']))\n",
    "    print(\"Shortest Path: \" + ' -> '.join(d[dest]['pred'] + [dest]))\n",
    "\n",
    "if __name__ == \"__main__\":\n",
    "    graph = {\n",
    "    \"A\": {\"B\": 10, \"C\": 4},\n",
    "    \"B\": {\"D\": 5},\n",
    "    \"C\": {\"D\": 9, \"E\": 6},\n",
    "    \"D\": {\"F\": 8},\n",
    "    \"E\": {\"F\": 3, \"D\":6},\n",
    "    \"F\": {}\n",
    "}\n",
    "    source = 'A'\n",
    "    destination = 'F'\n",
    "    Dijkstra(graph, source, destination)"
   ]
  },
  {
   "cell_type": "code",
   "execution_count": null,
   "id": "ca06957a",
   "metadata": {},
   "outputs": [],
   "source": []
  },
  {
   "cell_type": "markdown",
   "id": "ab01468d",
   "metadata": {},
   "source": [
    "## Bellman-Ford Algorithm"
   ]
  },
  {
   "cell_type": "code",
   "execution_count": 8,
   "id": "8efc4b00",
   "metadata": {},
   "outputs": [
    {
     "name": "stdout",
     "output_type": "stream",
     "text": [
      "{'A': 0, 'B': 1, 'C': -1, 'D': 6, 'E': 2}\n"
     ]
    }
   ],
   "source": [
    "def bellman_ford(graph, source):\n",
    "    distances = {vertex: float('inf') for vertex in graph}\n",
    "    distances[source] = 0\n",
    "\n",
    "    for _ in range(len(graph) - 1):\n",
    "        for u in graph:\n",
    "            for v, weight in graph[u].items():\n",
    "                if distances[u] != float('inf') and distances[u] + weight < distances[v]:\n",
    "                    distances[v] = distances[u] + weight\n",
    "\n",
    "    for u in graph:\n",
    "        for v, weight in graph[u].items():\n",
    "            if distances[u] != float('inf') and distances[u] + weight < distances[v]:\n",
    "                raise ValueError(\"Graph contains negative weight cycle\")\n",
    "\n",
    "    return distances\n",
    "\n",
    "graph = {\n",
    "    'A': {'B': 1, 'C': 4},\n",
    "    'B': {'C': -2, 'E': 2},\n",
    "    'C': {'E': 3},\n",
    "    'D': {'B': -3},\n",
    "    'E': {'D': 4}\n",
    "}\n",
    "source = 'A'\n",
    "\n",
    "shortest_distances = bellman_ford(graph, source)\n",
    "print(shortest_distances)"
   ]
  },
  {
   "cell_type": "markdown",
   "id": "e54728da",
   "metadata": {},
   "source": [
    "## Bellman-Ford Algorithm validation"
   ]
  },
  {
   "cell_type": "code",
   "execution_count": 87,
   "id": "0668797a",
   "metadata": {},
   "outputs": [
    {
     "name": "stdout",
     "output_type": "stream",
     "text": [
      "{'A': 0, 'B': 6, 'C': -5, 'D': 2, 'E': 7, 'F': -8}\n"
     ]
    }
   ],
   "source": [
    "def bellman_ford(graph, source):\n",
    "    distances = {vertex: float('inf') for vertex in graph}\n",
    "    distances[source] = 0\n",
    "\n",
    "    for _ in range(len(graph) - 1):\n",
    "        for u in graph:\n",
    "            for v, weight in graph[u].items():\n",
    "                if distances[u] != float('inf') and distances[u] + weight < distances[v]:\n",
    "                    distances[v] = distances[u] + weight\n",
    "\n",
    "    for u in graph:\n",
    "        for v, weight in graph[u].items():\n",
    "            if distances[u] != float('inf') and distances[u] + weight < distances[v]:\n",
    "                raise ValueError(\"Graph contains negative weight cycle\")\n",
    "\n",
    "    return distances\n",
    "\n",
    "graph = {\n",
    "    'A': {'B': 6, 'C': -5, 'E': 7},\n",
    "    'B': {'D': -4, 'E': 3},\n",
    "    'C': {'F': -3},\n",
    "    'D': {'F': 10},\n",
    "    'E': {'D': 9, 'C': 2},\n",
    "    'F': {}\n",
    "}\n",
    "source = 'A'\n",
    "\n",
    "shortest_distances = bellman_ford(graph, source)\n",
    "print(shortest_distances)"
   ]
  },
  {
   "cell_type": "code",
   "execution_count": null,
   "id": "3e681c9a",
   "metadata": {},
   "outputs": [],
   "source": []
  },
  {
   "cell_type": "markdown",
   "id": "7411aa3e",
   "metadata": {},
   "source": [
    "## Bellman-Ford Algorithm with negative cycle"
   ]
  },
  {
   "cell_type": "code",
   "execution_count": 86,
   "id": "d4fe572c",
   "metadata": {
    "scrolled": true
   },
   "outputs": [
    {
     "ename": "ValueError",
     "evalue": "Graph contains negative weight cycle",
     "output_type": "error",
     "traceback": [
      "\u001b[0;31m---------------------------------------------------------------------------\u001b[0m",
      "\u001b[0;31mValueError\u001b[0m                                Traceback (most recent call last)",
      "Cell \u001b[0;32mIn [86], line 26\u001b[0m\n\u001b[1;32m     18\u001b[0m graph \u001b[38;5;241m=\u001b[39m {\n\u001b[1;32m     19\u001b[0m     \u001b[38;5;124m'\u001b[39m\u001b[38;5;124mA\u001b[39m\u001b[38;5;124m'\u001b[39m: {\u001b[38;5;124m'\u001b[39m\u001b[38;5;124mC\u001b[39m\u001b[38;5;124m'\u001b[39m: \u001b[38;5;241m3\u001b[39m},\n\u001b[1;32m     20\u001b[0m     \u001b[38;5;124m'\u001b[39m\u001b[38;5;124mB\u001b[39m\u001b[38;5;124m'\u001b[39m: {\u001b[38;5;124m'\u001b[39m\u001b[38;5;124mA\u001b[39m\u001b[38;5;124m'\u001b[39m: \u001b[38;5;241m4\u001b[39m, \u001b[38;5;124m'\u001b[39m\u001b[38;5;124mC\u001b[39m\u001b[38;5;124m'\u001b[39m: \u001b[38;5;241m7\u001b[39m},\n\u001b[1;32m     21\u001b[0m     \u001b[38;5;124m'\u001b[39m\u001b[38;5;124mC\u001b[39m\u001b[38;5;124m'\u001b[39m: {\u001b[38;5;124m'\u001b[39m\u001b[38;5;124mD\u001b[39m\u001b[38;5;124m'\u001b[39m: \u001b[38;5;241m5\u001b[39m},\n\u001b[1;32m     22\u001b[0m     \u001b[38;5;124m'\u001b[39m\u001b[38;5;124mD\u001b[39m\u001b[38;5;124m'\u001b[39m: {\u001b[38;5;124m'\u001b[39m\u001b[38;5;124mB\u001b[39m\u001b[38;5;124m'\u001b[39m: \u001b[38;5;241m-\u001b[39m\u001b[38;5;241m15\u001b[39m}\n\u001b[1;32m     23\u001b[0m }\n\u001b[1;32m     24\u001b[0m source \u001b[38;5;241m=\u001b[39m \u001b[38;5;124m'\u001b[39m\u001b[38;5;124mA\u001b[39m\u001b[38;5;124m'\u001b[39m\n\u001b[0;32m---> 26\u001b[0m shortest_distances \u001b[38;5;241m=\u001b[39m \u001b[43mbellman_ford\u001b[49m\u001b[43m(\u001b[49m\u001b[43mgraph\u001b[49m\u001b[43m,\u001b[49m\u001b[43m \u001b[49m\u001b[43msource\u001b[49m\u001b[43m)\u001b[49m\n\u001b[1;32m     27\u001b[0m \u001b[38;5;28mprint\u001b[39m(shortest_distances)\n",
      "Cell \u001b[0;32mIn [86], line 14\u001b[0m, in \u001b[0;36mbellman_ford\u001b[0;34m(graph, source)\u001b[0m\n\u001b[1;32m     12\u001b[0m     \u001b[38;5;28;01mfor\u001b[39;00m v, weight \u001b[38;5;129;01min\u001b[39;00m graph[u]\u001b[38;5;241m.\u001b[39mitems():\n\u001b[1;32m     13\u001b[0m         \u001b[38;5;28;01mif\u001b[39;00m distances[u] \u001b[38;5;241m!=\u001b[39m \u001b[38;5;28mfloat\u001b[39m(\u001b[38;5;124m'\u001b[39m\u001b[38;5;124minf\u001b[39m\u001b[38;5;124m'\u001b[39m) \u001b[38;5;129;01mand\u001b[39;00m distances[u] \u001b[38;5;241m+\u001b[39m weight \u001b[38;5;241m<\u001b[39m distances[v]:\n\u001b[0;32m---> 14\u001b[0m             \u001b[38;5;28;01mraise\u001b[39;00m \u001b[38;5;167;01mValueError\u001b[39;00m(\u001b[38;5;124m\"\u001b[39m\u001b[38;5;124mGraph contains negative weight cycle\u001b[39m\u001b[38;5;124m\"\u001b[39m)\n\u001b[1;32m     16\u001b[0m \u001b[38;5;28;01mreturn\u001b[39;00m distances\n",
      "\u001b[0;31mValueError\u001b[0m: Graph contains negative weight cycle"
     ]
    }
   ],
   "source": [
    "def bellman_ford(graph, source):\n",
    "    distances = {vertex: float('inf') for vertex in graph}\n",
    "    distances[source] = 0\n",
    "\n",
    "    for _ in range(len(graph) - 1):\n",
    "        for u in graph:\n",
    "            for v, weight in graph[u].items():\n",
    "                if distances[u] != float('inf') and distances[u] + weight < distances[v]:\n",
    "                    distances[v] = distances[u] + weight\n",
    "\n",
    "    for u in graph:\n",
    "        for v, weight in graph[u].items():\n",
    "            if distances[u] != float('inf') and distances[u] + weight < distances[v]:\n",
    "                raise ValueError(\"Graph contains negative weight cycle\")\n",
    "\n",
    "    return distances\n",
    "\n",
    "graph = {\n",
    "    'A': {'C': 3},\n",
    "    'B': {'A': 4, 'C': 7},\n",
    "    'C': {'D': 5},\n",
    "    'D': {'B': -15}\n",
    "}\n",
    "source = 'A'\n",
    "\n",
    "shortest_distances = bellman_ford(graph, source)\n",
    "print(shortest_distances)"
   ]
  },
  {
   "cell_type": "code",
   "execution_count": null,
   "id": "d2fc8995",
   "metadata": {},
   "outputs": [],
   "source": []
  },
  {
   "cell_type": "markdown",
   "id": "c63fce54",
   "metadata": {},
   "source": [
    "## Bellman-Ford Algorithm with negative cycle validation"
   ]
  },
  {
   "cell_type": "code",
   "execution_count": 30,
   "id": "e1b31d9e",
   "metadata": {},
   "outputs": [
    {
     "ename": "ValueError",
     "evalue": "Graph contains negative weight cycle",
     "output_type": "error",
     "traceback": [
      "\u001b[0;31m---------------------------------------------------------------------------\u001b[0m",
      "\u001b[0;31mValueError\u001b[0m                                Traceback (most recent call last)",
      "Cell \u001b[0;32mIn [30], line 28\u001b[0m\n\u001b[1;32m     18\u001b[0m graph \u001b[38;5;241m=\u001b[39m {\n\u001b[1;32m     19\u001b[0m     \u001b[38;5;124m'\u001b[39m\u001b[38;5;124mA\u001b[39m\u001b[38;5;124m'\u001b[39m: {\u001b[38;5;124m'\u001b[39m\u001b[38;5;124mB\u001b[39m\u001b[38;5;124m'\u001b[39m: \u001b[38;5;241m-\u001b[39m\u001b[38;5;241m2\u001b[39m, \u001b[38;5;124m'\u001b[39m\u001b[38;5;124mC\u001b[39m\u001b[38;5;124m'\u001b[39m: \u001b[38;5;241m5\u001b[39m},\n\u001b[1;32m     20\u001b[0m     \u001b[38;5;124m'\u001b[39m\u001b[38;5;124mB\u001b[39m\u001b[38;5;124m'\u001b[39m: {\u001b[38;5;124m'\u001b[39m\u001b[38;5;124mD\u001b[39m\u001b[38;5;124m'\u001b[39m: \u001b[38;5;241m3\u001b[39m},\n\u001b[0;32m   (...)\u001b[0m\n\u001b[1;32m     24\u001b[0m     \u001b[38;5;124m'\u001b[39m\u001b[38;5;124mF\u001b[39m\u001b[38;5;124m'\u001b[39m: {}\n\u001b[1;32m     25\u001b[0m }\n\u001b[1;32m     26\u001b[0m source \u001b[38;5;241m=\u001b[39m \u001b[38;5;124m'\u001b[39m\u001b[38;5;124mA\u001b[39m\u001b[38;5;124m'\u001b[39m\n\u001b[0;32m---> 28\u001b[0m shortest_distances \u001b[38;5;241m=\u001b[39m \u001b[43mbellman_ford\u001b[49m\u001b[43m(\u001b[49m\u001b[43mgraph\u001b[49m\u001b[43m,\u001b[49m\u001b[43m \u001b[49m\u001b[43msource\u001b[49m\u001b[43m)\u001b[49m\n\u001b[1;32m     29\u001b[0m \u001b[38;5;28mprint\u001b[39m(shortest_distances)\n",
      "Cell \u001b[0;32mIn [30], line 14\u001b[0m, in \u001b[0;36mbellman_ford\u001b[0;34m(graph, source)\u001b[0m\n\u001b[1;32m     12\u001b[0m     \u001b[38;5;28;01mfor\u001b[39;00m v, weight \u001b[38;5;129;01min\u001b[39;00m graph[u]\u001b[38;5;241m.\u001b[39mitems():\n\u001b[1;32m     13\u001b[0m         \u001b[38;5;28;01mif\u001b[39;00m distances[u] \u001b[38;5;241m!=\u001b[39m \u001b[38;5;28mfloat\u001b[39m(\u001b[38;5;124m'\u001b[39m\u001b[38;5;124minf\u001b[39m\u001b[38;5;124m'\u001b[39m) \u001b[38;5;129;01mand\u001b[39;00m distances[u] \u001b[38;5;241m+\u001b[39m weight \u001b[38;5;241m<\u001b[39m distances[v]:\n\u001b[0;32m---> 14\u001b[0m             \u001b[38;5;28;01mraise\u001b[39;00m \u001b[38;5;167;01mValueError\u001b[39;00m(\u001b[38;5;124m\"\u001b[39m\u001b[38;5;124mGraph contains negative weight cycle\u001b[39m\u001b[38;5;124m\"\u001b[39m)\n\u001b[1;32m     16\u001b[0m \u001b[38;5;28;01mreturn\u001b[39;00m distances\n",
      "\u001b[0;31mValueError\u001b[0m: Graph contains negative weight cycle"
     ]
    }
   ],
   "source": [
    "def bellman_ford(graph, source):\n",
    "    distances = {vertex: float('inf') for vertex in graph}\n",
    "    distances[source] = 0\n",
    "\n",
    "    for _ in range(len(graph) - 1):\n",
    "        for u in graph:\n",
    "            for v, weight in graph[u].items():\n",
    "                if distances[u] != float('inf') and distances[u] + weight < distances[v]:\n",
    "                    distances[v] = distances[u] + weight\n",
    "\n",
    "    for u in graph:\n",
    "        for v, weight in graph[u].items():\n",
    "            if distances[u] != float('inf') and distances[u] + weight < distances[v]:\n",
    "                raise ValueError(\"Graph contains negative weight cycle\")\n",
    "\n",
    "    return distances\n",
    "\n",
    "graph = {\n",
    "    'A': {'B': -2, 'C': 5},\n",
    "    'B': {'D': 3},\n",
    "    'C': {'B': 6, 'E': -7},\n",
    "    'D': {'F': 10, 'C': -4},\n",
    "    'E': {'D': 1, 'F': 5},\n",
    "    'F': {}\n",
    "}\n",
    "source = 'A'\n",
    "\n",
    "shortest_distances = bellman_ford(graph, source)\n",
    "print(shortest_distances)"
   ]
  }
 ],
 "metadata": {
  "kernelspec": {
   "display_name": "Python 3 (ipykernel)",
   "language": "python",
   "name": "python3"
  },
  "language_info": {
   "codemirror_mode": {
    "name": "ipython",
    "version": 3
   },
   "file_extension": ".py",
   "mimetype": "text/x-python",
   "name": "python",
   "nbconvert_exporter": "python",
   "pygments_lexer": "ipython3",
   "version": "3.11.2"
  }
 },
 "nbformat": 4,
 "nbformat_minor": 5
}
